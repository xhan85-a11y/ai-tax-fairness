{
  "cells": [
    {
      "cell_type": "code",
      "source": "import pandas as pd\npd.read_csv('../data/synthetic_taxpayers.csv').head()",
      "metadata": {},
      "outputs": [],
      "execution_count": null
    }
  ],
  "metadata": {},
  "nbformat": 4,
  "nbformat_minor": 5
}